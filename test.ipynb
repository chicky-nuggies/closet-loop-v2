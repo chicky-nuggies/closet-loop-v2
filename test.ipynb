{
 "cells": [
  {
   "cell_type": "code",
   "execution_count": 11,
   "id": "f52f6c4c",
   "metadata": {},
   "outputs": [],
   "source": [
    "import httpx\n",
    "response = httpx.get('http://127.0.0.1:8000/api/wardrobe/butt')"
   ]
  },
  {
   "cell_type": "code",
   "execution_count": null,
   "id": "7604a2f4",
   "metadata": {},
   "outputs": [
    {
     "data": {
      "text/plain": [
       "{'name': 'grey hoodie', 'tags': ['balls', 'balls'], 'category': 'bottom'}"
      ]
     },
     "execution_count": 16,
     "metadata": {},
     "output_type": "execute_result"
    }
   ],
   "source": [
    "import json\n",
    "balls = json.loads(response.text)"
   ]
  }
 ],
 "metadata": {
  "kernelspec": {
   "display_name": "venv",
   "language": "python",
   "name": "python3"
  },
  "language_info": {
   "codemirror_mode": {
    "name": "ipython",
    "version": 3
   },
   "file_extension": ".py",
   "mimetype": "text/x-python",
   "name": "python",
   "nbconvert_exporter": "python",
   "pygments_lexer": "ipython3",
   "version": "3.12.6"
  }
 },
 "nbformat": 4,
 "nbformat_minor": 5
}
